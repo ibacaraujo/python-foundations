{
  "nbformat": 4,
  "nbformat_minor": 0,
  "metadata": {
    "colab": {
      "name": "Programming Foundations Algorithms.ipynb",
      "version": "0.3.2",
      "provenance": [],
      "collapsed_sections": [],
      "include_colab_link": true
    },
    "kernelspec": {
      "name": "python3",
      "display_name": "Python 3"
    }
  },
  "cells": [
    {
      "cell_type": "markdown",
      "metadata": {
        "id": "view-in-github",
        "colab_type": "text"
      },
      "source": [
        "<a href=\"https://colab.research.google.com/github/ibacaraujo/python-foundations/blob/master/Programming_Foundations_Algorithms.ipynb\" target=\"_parent\"><img src=\"https://colab.research.google.com/assets/colab-badge.svg\" alt=\"Open In Colab\"/></a>"
      ]
    },
    {
      "metadata": {
        "id": "k0w_ZMLLuG7U",
        "colab_type": "text"
      },
      "cell_type": "markdown",
      "source": [
        "Algorithms complexity. Space and time completixities.\n",
        "\n",
        "Common algorithms. Search algorithms, sorting algorithms, computational algorithms, collection algorithms"
      ]
    },
    {
      "metadata": {
        "id": "jNkSwijjt_zc",
        "colab_type": "code",
        "colab": {
          "base_uri": "https://localhost:8080/",
          "height": 53
        },
        "outputId": "ae0f0370-e1cb-44fe-eeec-055bb512d30b"
      },
      "cell_type": "code",
      "source": [
        "def gcd(a, b):\n",
        "  while (b != 0):\n",
        "    t = a\n",
        "    a = b\n",
        "    b = t % b\n",
        "    \n",
        "  return a\n",
        "\n",
        "print(gcd(60, 96)) # should be 12\n",
        "print(gcd(20, 8)) # should be 4"
      ],
      "execution_count": 2,
      "outputs": [
        {
          "output_type": "stream",
          "text": [
            "12\n",
            "4\n"
          ],
          "name": "stdout"
        }
      ]
    }
  ]
}