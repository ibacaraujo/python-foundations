{
  "nbformat": 4,
  "nbformat_minor": 0,
  "metadata": {
    "colab": {
      "name": "Programming Foundations Algorithms.ipynb",
      "version": "0.3.2",
      "provenance": [],
      "collapsed_sections": [],
      "include_colab_link": true
    },
    "kernelspec": {
      "name": "python3",
      "display_name": "Python 3"
    }
  },
  "cells": [
    {
      "cell_type": "markdown",
      "metadata": {
        "id": "view-in-github",
        "colab_type": "text"
      },
      "source": [
        "<a href=\"https://colab.research.google.com/github/ibacaraujo/python-foundations/blob/master/Programming_Foundations_Algorithms.ipynb\" target=\"_parent\"><img src=\"https://colab.research.google.com/assets/colab-badge.svg\" alt=\"Open In Colab\"/></a>"
      ]
    },
    {
      "metadata": {
        "id": "k0w_ZMLLuG7U",
        "colab_type": "text"
      },
      "cell_type": "markdown",
      "source": [
        "Algorithms complexity. Space and time completixities.\n",
        "\n",
        "Common algorithms. Search algorithms, sorting algorithms, computational algorithms, collection algorithms"
      ]
    },
    {
      "metadata": {
        "id": "jNkSwijjt_zc",
        "colab_type": "code",
        "outputId": "96f3b2bc-c899-4bc3-cf38-61e562d5eed8",
        "colab": {
          "base_uri": "https://localhost:8080/",
          "height": 53
        }
      },
      "cell_type": "code",
      "source": [
        "def gcd(a, b):\n",
        "  while (b != 0):\n",
        "    t = a\n",
        "    a = b\n",
        "    b = t % b\n",
        "    \n",
        "  return a\n",
        "\n",
        "print(gcd(60, 96)) # should be 12\n",
        "print(gcd(20, 8)) # should be 4"
      ],
      "execution_count": 1,
      "outputs": [
        {
          "output_type": "stream",
          "text": [
            "12\n",
            "4\n"
          ],
          "name": "stdout"
        }
      ]
    },
    {
      "metadata": {
        "id": "z1x54yx4gfbZ",
        "colab_type": "code",
        "colab": {}
      },
      "cell_type": "code",
      "source": [
        "# Linked List example\n",
        "\n",
        "\n",
        "# the Node class\n",
        "class Node(object):\n",
        "  def __init__(self, val):\n",
        "    self.val = val\n",
        "    self.next = None\n",
        "    \n",
        "  def get_data(self):\n",
        "    return self.val\n",
        "  \n",
        "  def set_data(self, val):\n",
        "    self.val = val\n",
        "    \n",
        "  def get_next(self):\n",
        "    return self.next\n",
        "  \n",
        "  def set_next(self, next):\n",
        "    self.next = next\n",
        "    \n",
        "    \n",
        "# the LinkedList class\n",
        "class LinkedList(object):\n",
        "  def __init__(self, head=None):\n",
        "    self.head = head\n",
        "    self.count = 0\n",
        "    \n",
        "  def get_count(self):\n",
        "    return self.count\n",
        "  \n",
        "  def insert(self, data):\n",
        "    # TODO: insert a new node\n",
        "    new_node = Node(data)\n",
        "    new_node.set_next(self.head)\n",
        "    self.head = new_node\n",
        "    self.count += 1\n",
        "    \n",
        "  def find(self, val):\n",
        "    # TODO: find the first item with a given value\n",
        "    item = self.head\n",
        "    while (item != None):\n",
        "      if item.get_data() == val:\n",
        "        return item\n",
        "      else:\n",
        "        item = item.get_next()\n",
        "    return None\n",
        "  \n",
        "  def deleteAt(self, idx):\n",
        "    # TODO: delete an item at given index\n",
        "    if idx > self.count-1:\n",
        "      return\n",
        "    if idx == 0:\n",
        "      self.head = self.head.get_next()\n",
        "    else:\n",
        "      i = 0\n",
        "      item = self.head\n",
        "      #previous = None\n",
        "      while (i < idx -1):\n",
        "        #previous = item\n",
        "        item = item.get_next()\n",
        "        i += 1\n",
        "      item.set_next(item.get_next().get_next())\n",
        "      self.count -= 1\n",
        "      \n",
        "    \n",
        "  def dump_list(self):\n",
        "    tempnode = self.head\n",
        "    while (tempnode != None):\n",
        "      print(\"Node: \", tempnode.get_data())\n",
        "      tempnode = tempnode.get_next()\n",
        "      \n",
        "  "
      ],
      "execution_count": 0,
      "outputs": []
    },
    {
      "metadata": {
        "id": "5XXgQs_fjxmN",
        "colab_type": "code",
        "outputId": "933357bd-3143-4027-a6b7-7954a7fa9c6d",
        "colab": {
          "base_uri": "https://localhost:8080/",
          "height": 233
        }
      },
      "cell_type": "code",
      "source": [
        "# create a linked list and insert some items\n",
        "itemlist = LinkedList()\n",
        "itemlist.insert(38)\n",
        "itemlist.insert(49)\n",
        "itemlist.insert(13)\n",
        "itemlist.insert(15)\n",
        "itemlist.dump_list()\n",
        "\n",
        "# exercise the list\n",
        "print(\"Item count: \", itemlist.get_count())\n",
        "print(\"Finding item: \", itemlist.find(13))\n",
        "print(\"Finding item: \", itemlist.find(78))\n",
        "\n",
        "# delete an item\n",
        "itemlist.deleteAt(3)\n",
        "print(\"Item count: \", itemlist.get_count())\n",
        "print(\"Finding item: \", itemlist.find(38))\n",
        "itemlist.dump_list()"
      ],
      "execution_count": 3,
      "outputs": [
        {
          "output_type": "stream",
          "text": [
            "Node:  15\n",
            "Node:  13\n",
            "Node:  49\n",
            "Node:  38\n",
            "Item count:  4\n",
            "Finding item:  <__main__.Node object at 0x7fe67d203f28>\n",
            "Finding item:  None\n",
            "Item count:  3\n",
            "Finding item:  None\n",
            "Node:  15\n",
            "Node:  13\n",
            "Node:  49\n"
          ],
          "name": "stdout"
        }
      ]
    },
    {
      "metadata": {
        "id": "yQHaexPSI2dw",
        "colab_type": "code",
        "outputId": "398aba4d-3798-4b9a-dfa9-013ba932a3a3",
        "colab": {
          "base_uri": "https://localhost:8080/",
          "height": 53
        }
      },
      "cell_type": "code",
      "source": [
        "# Stack\n",
        "\n",
        "# try out the Python stack functions\n",
        "\n",
        "# TODO: create a new empty stack\n",
        "stack = []\n",
        "\n",
        "\n",
        "# TODO: push items onto the stack\n",
        "stack.append(1)\n",
        "stack.append(2)\n",
        "\n",
        "\n",
        "# TODO: print the stack contents\n",
        "print(stack)\n",
        "\n",
        "\n",
        "# TODO: pop an item off the stack\n",
        "item = stack.pop()\n",
        "print(item)"
      ],
      "execution_count": 4,
      "outputs": [
        {
          "output_type": "stream",
          "text": [
            "[1, 2]\n",
            "2\n"
          ],
          "name": "stdout"
        }
      ]
    },
    {
      "metadata": {
        "id": "FEgZ_looKCdE",
        "colab_type": "code",
        "outputId": "561c21bf-1a8e-4595-d2eb-e983e3a5c892",
        "colab": {
          "base_uri": "https://localhost:8080/",
          "height": 53
        }
      },
      "cell_type": "code",
      "source": [
        "# Queue\n",
        "\n",
        "# try out the Python queue functions\n",
        "from collections import deque # optimized for adding and removing in both ends\n",
        "\n",
        "# TODO: create a new empty deque object that will function as a queue\n",
        "#queue = [] # it could be use, but removing from the front requires linear time\n",
        "queue = deque()\n",
        "\n",
        "# TODO: add some items to the queue\n",
        "queue.append(1)\n",
        "queue.append(2)\n",
        "\n",
        "# TODO: print the queue contents\n",
        "print(queue)\n",
        "\n",
        "# TODO: pop an item off the front of the queue\n",
        "item = queue.popleft()\n",
        "print(item)"
      ],
      "execution_count": 5,
      "outputs": [
        {
          "output_type": "stream",
          "text": [
            "deque([1, 2])\n",
            "1\n"
          ],
          "name": "stdout"
        }
      ]
    },
    {
      "metadata": {
        "id": "EMgim_cGMVzr",
        "colab_type": "code",
        "outputId": "46fb8d36-c745-46dc-df96-e65ffae2be61",
        "colab": {
          "base_uri": "https://localhost:8080/",
          "height": 125
        }
      },
      "cell_type": "code",
      "source": [
        "# Demonstrate hash table usage\n",
        "\n",
        "\n",
        "# TODO: create a hash table all at once\n",
        "hash_table = dict({'1': 1, '2': 2})\n",
        "print(hash_table)\n",
        "\n",
        "# TODO: create a hashtable progressively\n",
        "hash_table = {}\n",
        "hash_table['1'] = 1\n",
        "hash_table['2'] = 2\n",
        "print(hash_table)\n",
        "\n",
        "# TODO: try to access a nonexistent key\n",
        "# hash_table['4'] # KeyError\n",
        "\n",
        "\n",
        "# TODO: replace an item\n",
        "hash_table['1'] = 'one'\n",
        "\n",
        "# TODO: iterate the keys and values in the dictionary\n",
        "for k in hash_table:\n",
        "  print(k, hash_table[k])\n",
        "  \n",
        "for key, value in hash_table.items():\n",
        "  print(\"Key: \", key, \" value: \", value)"
      ],
      "execution_count": 6,
      "outputs": [
        {
          "output_type": "stream",
          "text": [
            "{'1': 1, '2': 2}\n",
            "{'1': 1, '2': 2}\n",
            "1 one\n",
            "2 2\n",
            "Key:  1  value:  one\n",
            "Key:  2  value:  2\n"
          ],
          "name": "stdout"
        }
      ]
    },
    {
      "metadata": {
        "id": "IFI2KW4SvK-V",
        "colab_type": "code",
        "colab": {
          "base_uri": "https://localhost:8080/",
          "height": 197
        },
        "outputId": "5102e454-5647-432f-ad1d-b9fdc240eb91"
      },
      "cell_type": "code",
      "source": [
        "# Bubble sort algorithm\n",
        "\n",
        "\n",
        "def bubble_sort(dataset):\n",
        "  # TODO: start with the array length and decrement each time\n",
        "  \n",
        "  for i in range(len(dataset)-1, 0, -1):\n",
        "    for j in range(i):\n",
        "      if dataset[j] > dataset[j+1]:\n",
        "        temp = dataset[j]\n",
        "        dataset[j] = dataset[j+1]\n",
        "        dataset[j+1] = temp\n",
        "              \n",
        "    print(\"Current state: \", dataset)\n",
        "    \n",
        "def main():\n",
        "  list1 = [6, 20, 8, 19, 56, 23, 87, 41, 49, 53]\n",
        "  bubble_sort(list1)\n",
        "  print(\"Result: \", list1)\n",
        "  \n",
        "\n",
        "if __name__ == \"__main__\":\n",
        "  main()"
      ],
      "execution_count": 15,
      "outputs": [
        {
          "output_type": "stream",
          "text": [
            "Current state:  [6, 8, 19, 20, 23, 56, 41, 49, 53, 87]\n",
            "Current state:  [6, 8, 19, 20, 23, 41, 49, 53, 56, 87]\n",
            "Current state:  [6, 8, 19, 20, 23, 41, 49, 53, 56, 87]\n",
            "Current state:  [6, 8, 19, 20, 23, 41, 49, 53, 56, 87]\n",
            "Current state:  [6, 8, 19, 20, 23, 41, 49, 53, 56, 87]\n",
            "Current state:  [6, 8, 19, 20, 23, 41, 49, 53, 56, 87]\n",
            "Current state:  [6, 8, 19, 20, 23, 41, 49, 53, 56, 87]\n",
            "Current state:  [6, 8, 19, 20, 23, 41, 49, 53, 56, 87]\n",
            "Current state:  [6, 8, 19, 20, 23, 41, 49, 53, 56, 87]\n",
            "Result:  [6, 8, 19, 20, 23, 41, 49, 53, 56, 87]\n"
          ],
          "name": "stdout"
        }
      ]
    },
    {
      "metadata": {
        "id": "XVW1pOTHzHqW",
        "colab_type": "code",
        "colab": {
          "base_uri": "https://localhost:8080/",
          "height": 701
        },
        "outputId": "e37b3d91-778e-482b-9420-556e11d7d924"
      },
      "cell_type": "code",
      "source": [
        "# Implement a merge sort with recursion\n",
        "\n",
        "items = [6, 20, 8, 19, 56, 23, 87, 41, 49, 53]\n",
        "\n",
        "def mergesort(dataset):\n",
        "  if len(dataset) > 1:\n",
        "    mid = len(dataset) // 2\n",
        "    leftarr = dataset[:mid]\n",
        "    rightarr = dataset[mid:]\n",
        "    #print(leftarr)\n",
        "    #print(rightarr)\n",
        "    \n",
        "    # TODO: recursively break down the arrays\n",
        "    print(\"mergesort(\" + str(leftarr) + \") left\")\n",
        "    mergesort(leftarr)\n",
        "    print(\"mergesort(\" + str(rightarr) + \") right\")\n",
        "    mergesort(rightarr)\n",
        "    \n",
        "    # TODO: now perform the merging\n",
        "    i=0 # index into the left array\n",
        "    j=0 # index into the right array\n",
        "    k=0 # index into the merged array\n",
        "    \n",
        "    print(\"Left array: \", leftarr)\n",
        "    print(\"Right array: \", rightarr)\n",
        "    \n",
        "    # TODO: while both arrays have content\n",
        "    while i < len(leftarr) and j < len(rightarr):\n",
        "      if leftarr[i] < rightarr[j]:\n",
        "        dataset[k] = leftarr[i]\n",
        "        i += 1\n",
        "        k += 1\n",
        "      else:\n",
        "        dataset[k] = rightarr[j]\n",
        "        j += 1\n",
        "        k += 1\n",
        "    \n",
        "    # TODO: if the left array still has values, add them\n",
        "    if i < len(leftarr):\n",
        "      dataset[k] = leftarr[i]\n",
        "      i += 1\n",
        "      k += 1\n",
        "    \n",
        "    # TODO: if the right array still has values, add them\n",
        "    if j < len(rightarr):\n",
        "      dataset[k] = rightarr[j]\n",
        "      j += 1\n",
        "      k += 1\n",
        "\n",
        "print(items)\n",
        "mergesort(items)\n",
        "print(items)"
      ],
      "execution_count": 27,
      "outputs": [
        {
          "output_type": "stream",
          "text": [
            "[6, 20, 8, 19, 56, 23, 87, 41, 49, 53]\n",
            "mergesort([6, 20, 8, 19, 56]) left\n",
            "mergesort([6, 20]) left\n",
            "mergesort([6]) left\n",
            "mergesort([20]) right\n",
            "Left array:  [6]\n",
            "Right array:  [20]\n",
            "mergesort([8, 19, 56]) right\n",
            "mergesort([8]) left\n",
            "mergesort([19, 56]) right\n",
            "mergesort([19]) left\n",
            "mergesort([56]) right\n",
            "Left array:  [19]\n",
            "Right array:  [56]\n",
            "Left array:  [8]\n",
            "Right array:  [19, 56]\n",
            "Left array:  [6, 20]\n",
            "Right array:  [8, 19, 56]\n",
            "mergesort([23, 87, 41, 49, 53]) right\n",
            "mergesort([23, 87]) left\n",
            "mergesort([23]) left\n",
            "mergesort([87]) right\n",
            "Left array:  [23]\n",
            "Right array:  [87]\n",
            "mergesort([41, 49, 53]) right\n",
            "mergesort([41]) left\n",
            "mergesort([49, 53]) right\n",
            "mergesort([49]) left\n",
            "mergesort([53]) right\n",
            "Left array:  [49]\n",
            "Right array:  [53]\n",
            "Left array:  [41]\n",
            "Right array:  [49, 53]\n",
            "Left array:  [23, 87]\n",
            "Right array:  [41, 49, 53]\n",
            "Left array:  [6, 8, 19, 20, 56]\n",
            "Right array:  [23, 41, 49, 53, 87]\n",
            "[6, 8, 19, 20, 23, 41, 49, 53, 56, 87]\n"
          ],
          "name": "stdout"
        }
      ]
    }
  ]
}