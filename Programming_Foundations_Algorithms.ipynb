{
  "nbformat": 4,
  "nbformat_minor": 0,
  "metadata": {
    "colab": {
      "name": "Programming Foundations Algorithms.ipynb",
      "version": "0.3.2",
      "provenance": [],
      "collapsed_sections": [],
      "include_colab_link": true
    },
    "kernelspec": {
      "name": "python3",
      "display_name": "Python 3"
    }
  },
  "cells": [
    {
      "cell_type": "markdown",
      "metadata": {
        "id": "view-in-github",
        "colab_type": "text"
      },
      "source": [
        "<a href=\"https://colab.research.google.com/github/ibacaraujo/python-foundations/blob/master/Programming_Foundations_Algorithms.ipynb\" target=\"_parent\"><img src=\"https://colab.research.google.com/assets/colab-badge.svg\" alt=\"Open In Colab\"/></a>"
      ]
    },
    {
      "metadata": {
        "id": "k0w_ZMLLuG7U",
        "colab_type": "text"
      },
      "cell_type": "markdown",
      "source": [
        "Algorithms complexity. Space and time completixities.\n",
        "\n",
        "Common algorithms. Search algorithms, sorting algorithms, computational algorithms, collection algorithms"
      ]
    },
    {
      "metadata": {
        "id": "jNkSwijjt_zc",
        "colab_type": "code",
        "outputId": "ae0f0370-e1cb-44fe-eeec-055bb512d30b",
        "colab": {
          "base_uri": "https://localhost:8080/",
          "height": 53
        }
      },
      "cell_type": "code",
      "source": [
        "def gcd(a, b):\n",
        "  while (b != 0):\n",
        "    t = a\n",
        "    a = b\n",
        "    b = t % b\n",
        "    \n",
        "  return a\n",
        "\n",
        "print(gcd(60, 96)) # should be 12\n",
        "print(gcd(20, 8)) # should be 4"
      ],
      "execution_count": 0,
      "outputs": [
        {
          "output_type": "stream",
          "text": [
            "12\n",
            "4\n"
          ],
          "name": "stdout"
        }
      ]
    },
    {
      "metadata": {
        "id": "z1x54yx4gfbZ",
        "colab_type": "code",
        "colab": {}
      },
      "cell_type": "code",
      "source": [
        "# Linked List example\n",
        "\n",
        "\n",
        "# the Node class\n",
        "class Node(object):\n",
        "  def __init__(self, val):\n",
        "    self.val = val\n",
        "    self.next = None\n",
        "    \n",
        "  def get_data(self):\n",
        "    return self.val\n",
        "  \n",
        "  def set_data(self, val):\n",
        "    self.val = val\n",
        "    \n",
        "  def get_next(self):\n",
        "    return self.next\n",
        "  \n",
        "  def set_next(self, next):\n",
        "    self.next = next\n",
        "    \n",
        "    \n",
        "# the LinkedList class\n",
        "class LinkedList(object):\n",
        "  def __init__(self, head=None):\n",
        "    self.head = head\n",
        "    self.count = 0\n",
        "    \n",
        "  def get_count(self):\n",
        "    return self.count\n",
        "  \n",
        "  def insert(self, data):\n",
        "    # TODO: insert a new node\n",
        "    new_node = Node(data)\n",
        "    new_node.set_next(self.head)\n",
        "    self.head = new_node\n",
        "    self.count += 1\n",
        "    \n",
        "  def find(self, val):\n",
        "    # TODO: find the first item with a given value\n",
        "    item = self.head\n",
        "    while (item != None):\n",
        "      if item.get_data() == val:\n",
        "        return item\n",
        "      else:\n",
        "        item = item.get_next()\n",
        "    return None\n",
        "  \n",
        "  def deleteAt(self, idx):\n",
        "    # TODO: delete an item at given index\n",
        "    if idx > self.count-1:\n",
        "      return\n",
        "    if idx == 0:\n",
        "      self.head = self.head.get_next()\n",
        "    else:\n",
        "      i = 0\n",
        "      item = self.head\n",
        "      #previous = None\n",
        "      while (i < idx -1):\n",
        "        #previous = item\n",
        "        item = item.get_next()\n",
        "        i += 1\n",
        "      item.set_next(item.get_next().get_next())\n",
        "      self.count -= 1\n",
        "      \n",
        "    \n",
        "  def dump_list(self):\n",
        "    tempnode = self.head\n",
        "    while (tempnode != None):\n",
        "      print(\"Node: \", tempnode.get_data())\n",
        "      tempnode = tempnode.get_next()\n",
        "      \n",
        "  "
      ],
      "execution_count": 0,
      "outputs": []
    },
    {
      "metadata": {
        "id": "5XXgQs_fjxmN",
        "colab_type": "code",
        "colab": {
          "base_uri": "https://localhost:8080/",
          "height": 233
        },
        "outputId": "3b665ebf-d35b-40bd-e2f4-5185bcd6966b"
      },
      "cell_type": "code",
      "source": [
        "# create a linked list and insert some items\n",
        "itemlist = LinkedList()\n",
        "itemlist.insert(38)\n",
        "itemlist.insert(49)\n",
        "itemlist.insert(13)\n",
        "itemlist.insert(15)\n",
        "itemlist.dump_list()\n",
        "\n",
        "# exercise the list\n",
        "print(\"Item count: \", itemlist.get_count())\n",
        "print(\"Finding item: \", itemlist.find(13))\n",
        "print(\"Finding item: \", itemlist.find(78))\n",
        "\n",
        "# delete an item\n",
        "itemlist.deleteAt(3)\n",
        "print(\"Item count: \", itemlist.get_count())\n",
        "print(\"Finding item: \", itemlist.find(38))\n",
        "itemlist.dump_list()"
      ],
      "execution_count": 12,
      "outputs": [
        {
          "output_type": "stream",
          "text": [
            "Node:  15\n",
            "Node:  13\n",
            "Node:  49\n",
            "Node:  38\n",
            "Item count:  4\n",
            "Finding item:  <__main__.Node object at 0x7f58f1a913c8>\n",
            "Finding item:  None\n",
            "Item count:  3\n",
            "Finding item:  None\n",
            "Node:  15\n",
            "Node:  13\n",
            "Node:  49\n"
          ],
          "name": "stdout"
        }
      ]
    }
  ]
}