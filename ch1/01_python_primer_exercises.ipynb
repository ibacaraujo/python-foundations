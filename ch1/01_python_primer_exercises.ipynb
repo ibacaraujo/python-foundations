{
  "nbformat": 4,
  "nbformat_minor": 0,
  "metadata": {
    "colab": {
      "name": "01_python_primer_exercises.ipynb",
      "version": "0.3.2",
      "provenance": [],
      "collapsed_sections": []
    },
    "kernelspec": {
      "name": "python3",
      "display_name": "Python 3"
    }
  },
  "cells": [
    {
      "metadata": {
        "id": "DEgxEexXyB7M",
        "colab_type": "text"
      },
      "cell_type": "markdown",
      "source": [
        "# Python Primer, Exercises"
      ]
    },
    {
      "metadata": {
        "id": "h6ZAxG1ByMZv",
        "colab_type": "text"
      },
      "cell_type": "markdown",
      "source": [
        "## Reinforcement"
      ]
    },
    {
      "metadata": {
        "id": "D5LDmIR7x0cz",
        "colab_type": "code",
        "outputId": "02374879-5b36-4ca1-85c9-b9fe4776def3",
        "colab": {
          "base_uri": "https://localhost:8080/",
          "height": 53
        }
      },
      "cell_type": "code",
      "source": [
        "# R-1.1\n",
        "\n",
        "def is_multiple(n, m):\n",
        "  if (n % m == 0):\n",
        "    return True\n",
        "  return False\n",
        "\n",
        "print(is_multiple(9, 3))\n",
        "print(is_multiple(22, 8))"
      ],
      "execution_count": 0,
      "outputs": [
        {
          "output_type": "stream",
          "text": [
            "True\n",
            "False\n"
          ],
          "name": "stdout"
        }
      ]
    },
    {
      "metadata": {
        "id": "paCqU7OqzjPE",
        "colab_type": "code",
        "colab": {
          "base_uri": "https://localhost:8080/",
          "height": 89
        },
        "outputId": "157a45f3-961e-4543-8855-353e9086bd8c"
      },
      "cell_type": "code",
      "source": [
        "# R-1.2\n",
        "\n",
        "def is_even(k):\n",
        "  str_k = str(k)\n",
        "  if str_k[-1] in ['0', '2', '4', '6', '8']:\n",
        "    return True\n",
        "  return False\n",
        "\n",
        "print(is_even(8))\n",
        "print(is_even(24))\n",
        "print(is_even(129))\n",
        "print(is_even(1015))"
      ],
      "execution_count": 1,
      "outputs": [
        {
          "output_type": "stream",
          "text": [
            "True\n",
            "True\n",
            "False\n",
            "False\n"
          ],
          "name": "stdout"
        }
      ]
    }
  ]
}