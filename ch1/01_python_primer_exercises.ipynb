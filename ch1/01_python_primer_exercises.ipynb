{
  "nbformat": 4,
  "nbformat_minor": 0,
  "metadata": {
    "colab": {
      "name": "01_python_primer_exercises.ipynb",
      "version": "0.3.2",
      "provenance": []
    },
    "kernelspec": {
      "name": "python3",
      "display_name": "Python 3"
    }
  },
  "cells": [
    {
      "metadata": {
        "id": "DEgxEexXyB7M",
        "colab_type": "text"
      },
      "cell_type": "markdown",
      "source": [
        "# Python Primer, Exercises"
      ]
    },
    {
      "metadata": {
        "id": "h6ZAxG1ByMZv",
        "colab_type": "text"
      },
      "cell_type": "markdown",
      "source": [
        "## Reinforcement"
      ]
    },
    {
      "metadata": {
        "id": "D5LDmIR7x0cz",
        "colab_type": "code",
        "colab": {
          "base_uri": "https://localhost:8080/",
          "height": 53
        },
        "outputId": "02374879-5b36-4ca1-85c9-b9fe4776def3"
      },
      "cell_type": "code",
      "source": [
        "# R-1.1\n",
        "\n",
        "def is_multiple(n, m):\n",
        "  if (n % m == 0):\n",
        "    return True\n",
        "  return False\n",
        "\n",
        "print(is_multiple(9, 3))\n",
        "print(is_multiple(22, 8))"
      ],
      "execution_count": 2,
      "outputs": [
        {
          "output_type": "stream",
          "text": [
            "True\n",
            "False\n"
          ],
          "name": "stdout"
        }
      ]
    }
  ]
}