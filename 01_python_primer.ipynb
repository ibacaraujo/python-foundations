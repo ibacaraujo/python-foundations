{
  "nbformat": 4,
  "nbformat_minor": 0,
  "metadata": {
    "colab": {
      "name": "01_python_primer.ipynb",
      "version": "0.3.2",
      "provenance": [],
      "include_colab_link": true
    },
    "kernelspec": {
      "name": "python3",
      "display_name": "Python 3"
    }
  },
  "cells": [
    {
      "cell_type": "markdown",
      "metadata": {
        "id": "view-in-github",
        "colab_type": "text"
      },
      "source": [
        "<a href=\"https://colab.research.google.com/github/ibacaraujo/python-foundations/blob/master/01_python_primer.ipynb\" target=\"_parent\"><img src=\"https://colab.research.google.com/assets/colab-badge.svg\" alt=\"Open In Colab\"/></a>"
      ]
    },
    {
      "metadata": {
        "id": "g3WsDojQjOnm",
        "colab_type": "text"
      },
      "cell_type": "markdown",
      "source": [
        "## Python Primer"
      ]
    },
    {
      "metadata": {
        "id": "mu_BadXFjJJ3",
        "colab_type": "code",
        "colab": {
          "base_uri": "https://localhost:8080/",
          "height": 179
        },
        "outputId": "805024df-8009-488b-c435-cde0ca848503"
      },
      "cell_type": "code",
      "source": [
        "# Code Fragment 1.1\n",
        "\n",
        "print('Welcome to the GPA calculator.')\n",
        "print('Please enter all your letter grades, one per line.')\n",
        "print('Enter a blank line to designate the end.')\n",
        "# map from letter grade to point value\n",
        "points = {'A+':4.0, 'A':4.0, 'A-':3.67, 'B+':3.33, 'B':3.0, 'B-':2.67,\n",
        "         'C+':2.33, 'C':2.0, 'C-':1.67, 'D+':1.33, 'D':1.0, 'F':0.0}\n",
        "num_courses = 0\n",
        "total_points = 0\n",
        "done = False\n",
        "while not done:\n",
        "  grade = input()\n",
        "  if grade == '':\n",
        "    done = True\n",
        "  elif grade not in points:\n",
        "    print(\"Unknown grade '{0}' being ignored\".format(grade))\n",
        "  else:\n",
        "    num_courses += 1\n",
        "    total_points += points[grade]\n",
        "if num_courses > 0: # avoid division by zero\n",
        "  print('Your GPA is {0:.3}'.format(total_points / num_courses))"
      ],
      "execution_count": 3,
      "outputs": [
        {
          "output_type": "stream",
          "text": [
            "Welcome to the GPA calculator.\n",
            "Please enter all your letter grades, one per line.\n",
            "Enter a blank line to designate the end.\n",
            "A\n",
            "B\n",
            "B\n",
            "C\n",
            "\n",
            "Your GPA is 3.0\n"
          ],
          "name": "stdout"
        }
      ]
    },
    {
      "metadata": {
        "id": "ZXpCuiwxvyLL",
        "colab_type": "code",
        "colab": {
          "base_uri": "https://localhost:8080/",
          "height": 35
        },
        "outputId": "e89771c7-702f-4450-f891-c2528abf6c93"
      },
      "cell_type": "code",
      "source": [
        "# Extended Assignment Operators\n",
        "\n",
        "alpha = [1,2,3]\n",
        "beta = alpha # alias for alpha\n",
        "beta += [4, 5] # extends the origina list with two more elements\n",
        "beta = beta + [6, 7] # reassigns beta to a new list [1, 2, 3, 4, 5, 6, 7]\n",
        "print(alpha) # will be [1, 2, 3, 4, 5]"
      ],
      "execution_count": 5,
      "outputs": [
        {
          "output_type": "stream",
          "text": [
            "[1, 2, 3, 4, 5]\n"
          ],
          "name": "stdout"
        }
      ]
    },
    {
      "metadata": {
        "id": "3uuKLx2ex0B2",
        "colab_type": "code",
        "colab": {
          "base_uri": "https://localhost:8080/",
          "height": 35
        },
        "outputId": "6378374b-3279-4ae5-b723-d0521c3d29ff"
      },
      "cell_type": "code",
      "source": [
        "def count(data, target):\n",
        "  n = 0\n",
        "  for item in data:\n",
        "    if item == target:\n",
        "      n += 1\n",
        "  return n\n",
        "\n",
        "match = count([1, 2, 2, 2, 2, 3], 2)\n",
        "print(match)"
      ],
      "execution_count": 7,
      "outputs": [
        {
          "output_type": "stream",
          "text": [
            "4\n"
          ],
          "name": "stdout"
        }
      ]
    },
    {
      "metadata": {
        "id": "U27jP2Nf0prX",
        "colab_type": "code",
        "colab": {
          "base_uri": "https://localhost:8080/",
          "height": 35
        },
        "outputId": "cd9244d5-b21b-4e0f-f635-5fd917f53385"
      },
      "cell_type": "code",
      "source": [
        "# Mutable Parameters better undertanding with concrete example\n",
        "\n",
        "grades = [10, 10, 9, 9]\n",
        "value = 2\n",
        "\n",
        "def scale(data, factor):\n",
        "  for j in range(len(data)):\n",
        "    data[j] *= factor\n",
        "  \n",
        "scale(grades, value)\n",
        "    \n",
        "print(grades)"
      ],
      "execution_count": 10,
      "outputs": [
        {
          "output_type": "stream",
          "text": [
            "[20, 20, 18, 18]\n"
          ],
          "name": "stdout"
        }
      ]
    },
    {
      "metadata": {
        "id": "61zw6u5j2IRC",
        "colab_type": "code",
        "colab": {
          "base_uri": "https://localhost:8080/",
          "height": 35
        },
        "outputId": "bdd821a9-2f16-4ce0-d218-444ef63c1305"
      },
      "cell_type": "code",
      "source": [
        "# Code Fragment 1.2\n",
        "# Example for Default Parameter Values\n",
        "\n",
        "def compute_gpa(grades, points = {'A+':4.0, 'A':4.0, 'A-':3.67, 'B+':3.33, \n",
        "                                  'B':3.0, 'B-':2.67, 'C+':2.33, 'C':2.0, \n",
        "                                  'C-':1.67, 'D+':1.33, 'D':1.0, 'F':0.0}):\n",
        "  num_courses = 0\n",
        "  total_points = 0\n",
        "  for g in grades:\n",
        "    if g in points:\n",
        "      num_courses += 1\n",
        "      total_points += points[g]\n",
        "  return total_points / num_courses\n",
        "\n",
        "compute_gpa(['A', 'B', 'B', 'C'])"
      ],
      "execution_count": 11,
      "outputs": [
        {
          "output_type": "execute_result",
          "data": {
            "text/plain": [
              "3.0"
            ]
          },
          "metadata": {
            "tags": []
          },
          "execution_count": 11
        }
      ]
    },
    {
      "metadata": {
        "id": "IRXRThOz50HJ",
        "colab_type": "code",
        "colab": {
          "base_uri": "https://localhost:8080/",
          "height": 53
        },
        "outputId": "31d92668-f163-4bbc-ab02-f93db99f870c"
      },
      "cell_type": "code",
      "source": [
        "reply = input('Enter x and y, separated by spaces: ')\n",
        "pieces = reply.split()\n",
        "x = float(pieces[0])\n",
        "y = float(pieces[1])\n",
        "\n",
        "print(x, y)"
      ],
      "execution_count": 13,
      "outputs": [
        {
          "output_type": "stream",
          "text": [
            "Enter x and y, separated by spaces: 4 8\n",
            "4.0 8.0\n"
          ],
          "name": "stdout"
        }
      ]
    },
    {
      "metadata": {
        "id": "je2bxC-66GQ_",
        "colab_type": "code",
        "colab": {
          "base_uri": "https://localhost:8080/",
          "height": 53
        },
        "outputId": "d960f63d-043a-4704-8de2-771ae07f0bb0"
      },
      "cell_type": "code",
      "source": [
        "# A Sample Program\n",
        "\n",
        "age = int(input('Enter your age in years: '))\n",
        "max_heart_rate = 206.9 - (0.67 * age) # as per Med Sci Sports Exerc.\n",
        "target = 0.65 * max_heart_rate\n",
        "print('Your target fat-burning heart rate is', target)"
      ],
      "execution_count": 14,
      "outputs": [
        {
          "output_type": "stream",
          "text": [
            "Enter your age in years: 26\n",
            "Your target fat-burning heart rate is 123.16200000000002\n"
          ],
          "name": "stdout"
        }
      ]
    },
    {
      "metadata": {
        "id": "oKKUZ96jBazk",
        "colab_type": "code",
        "colab": {
          "base_uri": "https://localhost:8080/",
          "height": 53
        },
        "outputId": "19915bba-0854-43b2-c920-4e2eeecf0c33"
      },
      "cell_type": "code",
      "source": [
        "# Iterators and Generators\n",
        "# Mechanism for iteration, example\n",
        "\n",
        "data = [1, 2, 4, 8]\n",
        "i = iter(data)\n",
        "print(i) # expect 1? No, it is the iterator\n",
        "print(next(i)) # expect 2? No, the first call to next(i) points to first item"
      ],
      "execution_count": 16,
      "outputs": [
        {
          "output_type": "stream",
          "text": [
            "<list_iterator object at 0x7f350b861a90>\n",
            "1\n"
          ],
          "name": "stdout"
        }
      ]
    }
  ]
}