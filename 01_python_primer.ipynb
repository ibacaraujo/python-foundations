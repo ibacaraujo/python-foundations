{
  "nbformat": 4,
  "nbformat_minor": 0,
  "metadata": {
    "colab": {
      "name": "01_python_primer.ipynb",
      "version": "0.3.2",
      "provenance": [],
      "include_colab_link": true
    },
    "kernelspec": {
      "name": "python3",
      "display_name": "Python 3"
    }
  },
  "cells": [
    {
      "cell_type": "markdown",
      "metadata": {
        "id": "view-in-github",
        "colab_type": "text"
      },
      "source": [
        "<a href=\"https://colab.research.google.com/github/ibacaraujo/python-foundations/blob/master/01_python_primer.ipynb\" target=\"_parent\"><img src=\"https://colab.research.google.com/assets/colab-badge.svg\" alt=\"Open In Colab\"/></a>"
      ]
    },
    {
      "metadata": {
        "id": "g3WsDojQjOnm",
        "colab_type": "text"
      },
      "cell_type": "markdown",
      "source": [
        "## Python Primer"
      ]
    },
    {
      "metadata": {
        "id": "mu_BadXFjJJ3",
        "colab_type": "code",
        "colab": {
          "base_uri": "https://localhost:8080/",
          "height": 179
        },
        "outputId": "805024df-8009-488b-c435-cde0ca848503"
      },
      "cell_type": "code",
      "source": [
        "# Code Fragment 1.1\n",
        "\n",
        "print('Welcome to the GPA calculator.')\n",
        "print('Please enter all your letter grades, one per line.')\n",
        "print('Enter a blank line to designate the end.')\n",
        "# map from letter grade to point value\n",
        "points = {'A+':4.0, 'A':4.0, 'A-':3.67, 'B+':3.33, 'B':3.0, 'B-':2.67,\n",
        "         'C+':2.33, 'C':2.0, 'C-':1.67, 'D+':1.33, 'D':1.0, 'F':0.0}\n",
        "num_courses = 0\n",
        "total_points = 0\n",
        "done = False\n",
        "while not done:\n",
        "  grade = input()\n",
        "  if grade == '':\n",
        "    done = True\n",
        "  elif grade not in points:\n",
        "    print(\"Unknown grade '{0}' being ignored\".format(grade))\n",
        "  else:\n",
        "    num_courses += 1\n",
        "    total_points += points[grade]\n",
        "if num_courses > 0: # avoid division by zero\n",
        "  print('Your GPA is {0:.3}'.format(total_points / num_courses))"
      ],
      "execution_count": 3,
      "outputs": [
        {
          "output_type": "stream",
          "text": [
            "Welcome to the GPA calculator.\n",
            "Please enter all your letter grades, one per line.\n",
            "Enter a blank line to designate the end.\n",
            "A\n",
            "B\n",
            "B\n",
            "C\n",
            "\n",
            "Your GPA is 3.0\n"
          ],
          "name": "stdout"
        }
      ]
    }
  ]
}